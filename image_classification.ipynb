#do it in jupiter notebook or in google colab

import numpy as np
import pandas as pd
import matplotlib.pyplot as plt
from tensorflow.keras.datasets import mnist
from tensorflow.keras.utils import to_categorical
from tensorflow.keras.models import Sequential
from tensorflow.keras.layers import Dense, Flatten


# Load MNIST dataset
(x_train, y_train), (x_test, y_test) = mnist.load_data()

# Normalize pixel values to be between 0 and 1
x_train, x_test = x_train / 255.0, x_test / 255.0

# Convert class vectors to binary class matrices
num_classes = 10
y_train = to_categorical(y_train, num_classes)
y_test = to_categorical(y_test, num_classes)


# Display a sample image
plt.figure()
plt.imshow(x_train[0], cmap='gray')
plt.title(f'Label: {np.argmax(y_train[0])}')
plt.show()


# Create a simple sequential model
model = Sequential([
  Flatten(input_shape=(28, 28)),
  Dense(128, activation='relu'),
  Dense(10, activation='softmax')
])


# Compile the model
model.compile(optimizer='adam',
              loss='categorical_crossentropy',
              metrics=['accuracy'])

# Train the model
model.fit(x_train, y_train, epochs=2, batch_size=32)


# Evaluate the model
loss, accuracy = model.evaluate(x_test, y_test, verbose=0)
print(f'Test loss: {loss:.4f}')
print(f'Test accuracy: {accuracy:.4f}')

# Make a prediction on a single image
predictions = model.predict(x_test[:5])
predicted_labels = np.argmax(predictions, axis=1)


# Display the predictions
for i in range(5):
    plt.figure()
    plt.imshow(x_test[i], cmap='gray')
    plt.title(f'Predicted label: {predicted_labels[i]}')
    plt.show()
